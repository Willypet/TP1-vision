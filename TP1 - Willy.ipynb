{
 "cells": [
  {
   "cell_type": "code",
   "execution_count": 1,
   "id": "8467b15c",
   "metadata": {},
   "outputs": [],
   "source": [
    "import cv2\n",
    "import numpy as np\n",
    "import matplotlib.pyplot as plt"
   ]
  },
  {
   "cell_type": "code",
   "execution_count": 2,
   "id": "85e90253",
   "metadata": {},
   "outputs": [],
   "source": [
    "# Fonction pour appliquer le filtre passe-haut\n",
    "def apply_high_pass_filter(image):\n",
    "    # Convertir l'image en niveaux de gris\n",
    "    gray = cv2.cvtColor(image, cv2.COLOR_BGR2GRAY)\n",
    "    \n",
    "    # Appliquer la transformation de Fourier\n",
    "    f_transform = np.fft.fft2(gray)\n",
    "    \n",
    "    # Déplacer les composantes de fréquence zéro au centre\n",
    "    f_transform_shifted = np.fft.fftshift(f_transform)\n",
    "    \n",
    "    # Créer un filtre passe-haut\n",
    "    rows, cols = gray.shape\n",
    "    crow, ccol = rows // 2, cols // 2\n",
    "    f_transform_shifted[crow-30:crow+30, ccol-30:ccol+30] = 0\n",
    "    \n",
    "    # Déplacer les composantes de fréquence zéro vers le coin\n",
    "    f_transform_unshifted = np.fft.ifftshift(f_transform_shifted)\n",
    "    \n",
    "    # Appliquer la transformation de Fourier inverse\n",
    "    filtered_image = np.abs(np.fft.ifft2(f_transform_unshifted))\n",
    "    \n",
    "    return filtered_image"
   ]
  },
  {
   "cell_type": "code",
   "execution_count": 31,
   "id": "f6603545",
   "metadata": {},
   "outputs": [],
   "source": [
    "def process(thresholded_image):\n",
    "    # Création des noyaux de différentes tailles\n",
    "    small_kernel = np.ones((3, 3), np.uint8)  # Noyau Petit\n",
    "    medium_kernel = np.ones((5, 5), np.uint8)  # Noyau Moyen\n",
    "    big_kernel = np.ones((8, 8), np.uint8)  # Noyau Grand\n",
    "\n",
    "    # Appliquer une opération de dilatation avec un noyau petit\n",
    "    dilated_image_1 = cv2.dilate(thresholded_image, small_kernel, iterations=3)\n",
    "\n",
    "    # Recréer le masque pour la couleur blanche\n",
    "    white_mask = np.zeros(dilated_image_1.shape, dtype=np.uint8)\n",
    "    white_mask[dilated_image_1 == 255] = 255\n",
    "\n",
    "    # Appliquer une opération d'érosion pour réduire le bruit avec un noyau moyen\n",
    "    erosion_image_1 = cv2.erode(white_mask, medium_kernel, iterations=3)\n",
    "    \"\"\"erosion_image_1 = cv2.erode(thresholded_image, medium_kernel, iterations=3)\"\"\"\n",
    "\n",
    "    # Créer un masque pour la couleur blanche\n",
    "    white_mask = np.zeros(erosion_image_1.shape, dtype=np.uint8)\n",
    "    white_mask[erosion_image_1 == 255] = 255\n",
    "\n",
    "    # Appliquer une opération de dilatation avec un noyau petit\n",
    "    dilated_image_2 = cv2.dilate(white_mask, small_kernel, iterations=5)\n",
    "\n",
    "    # Recréer le masque pour la couleur blanche\n",
    "    white_mask = np.zeros(dilated_image_2.shape, dtype=np.uint8)\n",
    "    white_mask[dilated_image_2 == 255] = 255\n",
    "\n",
    "    # Appliquer une opération d'érosion pour réduire le bruit avec un noyau moyen\n",
    "    erosion_image_2 = cv2.erode(white_mask, medium_kernel, iterations=3)\n",
    "\n",
    "    # Recréer le masque pour la couleur blanche\n",
    "    white_mask = np.zeros(erosion_image_2.shape, dtype=np.uint8)\n",
    "    white_mask[erosion_image_2 == 255] = 255\n",
    "\n",
    "    # Appliquer une opération de dilatation avec un noyau grand\n",
    "    final_mask = cv2.dilate(white_mask, big_kernel, iterations=3)\n",
    "\n",
    "    return final_mask"
   ]
  },
  {
   "cell_type": "code",
   "execution_count": 32,
   "id": "1e93cbdc",
   "metadata": {},
   "outputs": [],
   "source": [
    "def get_mask(reference, current):\n",
    "    # Appliquer le filtre passe-haut aux images\n",
    "    filtered_reference = apply_high_pass_filter(reference)\n",
    "    filtered_current = apply_high_pass_filter(current)\n",
    "\n",
    "    # Soustraire les images filtrées\n",
    "    difference_image = cv2.subtract(filtered_current, filtered_reference)\n",
    "\n",
    "    # Appliquer un seuil pour binariser l'image\n",
    "    threshold_value = 30\n",
    "    _, thresholded_image = cv2.threshold(difference_image, threshold_value, 255, cv2.THRESH_BINARY)\n",
    "    \n",
    "    # Traitement de l'image binaire\n",
    "    final_mask = process(thresholded_image)\n",
    "    \n",
    "    return final_mask"
   ]
  },
  {
   "cell_type": "code",
   "execution_count": 33,
   "id": "6825e32b",
   "metadata": {},
   "outputs": [],
   "source": [
    "# Charger les images de référence et actuelle\n",
    "reference_kitchen = cv2.imread(\"./Images/Cuisine/Reference.JPG\")\n",
    "current_kitchen = cv2.imread(\"./Images/Cuisine/IMG_6565.JPG\")\n",
    "\n",
    "final_mask = get_mask(reference_kitchen, current_kitchen)"
   ]
  },
  {
   "cell_type": "code",
   "execution_count": 34,
   "id": "93057efb",
   "metadata": {},
   "outputs": [
    {
     "data": {
      "image/png": "[encoded data removed]",
      "text/plain": [
       "<Figure size 432x288 with 1 Axes>"
      ]
     },
     "metadata": {
      "needs_background": "light"
     },
     "output_type": "display_data"
    }
   ],
   "source": [
    "###  * * * * * * * * * * ** * * * * * * * * * *  ###\n",
    "#\"\"\" Cette partie sert uniquement à l'affichage \"\"\"#\n",
    "\"\"\"\n",
    "# Afficher les images avec les changements mis en évidence\n",
    "fig, axes = plt.subplots(2, 3, figsize=(15, 10))\n",
    "\n",
    "# Afficher l'image seuillée et traitée\n",
    "axes[0, 0].imshow(thresholded_image, cmap='gray')\n",
    "axes[0, 0].set_title('Thresholded Image')\n",
    "\n",
    "axes[0, 1].imshow(dilated_image_1, cmap='gray')\n",
    "axes[0, 1].set_title('Dilated Image 1')\n",
    "\n",
    "axes[0, 2].imshow(erosion_image_1, cmap='gray')\n",
    "axes[0, 2].set_title('Erosion Image 1')\n",
    "\n",
    "axes[1, 0].imshow(dilated_image_2, cmap='gray')\n",
    "axes[1, 0].set_title('Dilated Image 2')\n",
    "\n",
    "axes[1, 1].imshow(erosion_image_2, cmap='gray')\n",
    "axes[1, 1].set_title('Erosion Image 2')\n",
    "\n",
    "# Afficher le masque finale après réduction du bruit\n",
    "axes[1, 2].imshow(final_mask, cmap='gray')\n",
    "axes[1, 2].set_title('Final Image')\n",
    "\"\"\"\n",
    "\n",
    "# Afficher le masque finale après réduction du bruit\n",
    "plt.imshow(final_mask, cmap='gray')\n",
    "plt.title('Final Image')\n",
    "\n",
    "plt.show()\n",
    "\n",
    "#\"\"\" Cette partie sert uniquement à l'affichage \"\"\"#\n",
    "###  * * * * * * * * * * ** * * * * * * * * * *  ###"
   ]
  },
  {
   "cell_type": "code",
   "execution_count": null,
   "id": "e793848b",
   "metadata": {},
   "outputs": [],
   "source": [
    "\"\"\"\n",
    "contours_list = [cv2.findContours(final_image, cv2.RETR_EXTERNAL, cv2.CHAIN_APPROX_SIMPLE)[0] for final_img in img_thresholds]\n",
    "\"\"\"\n",
    "\n",
    "hauteur_image = reference_kitchen.shape[0]  # Obtenez la hauteur de l'image\n",
    "limite_hauteur = hauteur_image / 2  # La moitié de la hauteur de l'image\n",
    "taille_minimale = 40000\n",
    "taille_max =1000000\n",
    "c=0\n",
    "\n",
    "# Parcourir tous les contours détectés\n",
    "for idx, contours in enumerate(contours_list):\n",
    "    # Copier l'image d'origine pour dessiner dessus\n",
    "    img_with_circles = img_changes[idx].copy()\n",
    "\n",
    "    # Parcourir tous les contours détectés pour cette image\n",
    "    for contour in contours:\n",
    "        (x, y), radius = cv2.minEnclosingCircle(contour)\n",
    "        center = (int(x), int(y))\n",
    "        radius = int(radius)\n",
    "\n",
    "        # Vérifier si le contour est en dessous de la moitié de la hauteur de l'image\n",
    "        # et s'il a une taille minimale requise\n",
    "        if y + radius > limite_hauteur and cv2.contourArea(contour) > taille_minimale and cv2.contourArea(contour) < taille_max:\n",
    "            # Dessiner un cercle englobant pour chaque contour qui répond aux critères\n",
    "            cv2.circle(img_with_circles, center, radius, (255, 0, 0), 5)\n",
    "            c=c+1\n",
    "    img_with_circlesA = cv2.cvtColor(img_with_circles, cv2.COLOR_BGR2RGB)\n",
    "    plt.imshow(img_with_circlesA)\n",
    "    plt.show()"
   ]
  }
 ],
 "metadata": {
  "kernelspec": {
   "display_name": "Python 3 (ipykernel)",
   "language": "python",
   "name": "python3"
  },
  "language_info": {
   "codemirror_mode": {
    "name": "ipython",
    "version": 3
   },
   "file_extension": ".py",
   "mimetype": "text/x-python",
   "name": "python",
   "nbconvert_exporter": "python",
   "pygments_lexer": "ipython3",
   "version": "3.9.12"
  }
 },
 "nbformat": 4,
 "nbformat_minor": 5
}
